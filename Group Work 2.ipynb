{
 "cells": [
  {
   "cell_type": "code",
   "execution_count": 17,
   "metadata": {
    "scrolled": true
   },
   "outputs": [
    {
     "name": "stderr",
     "output_type": "stream",
     "text": [
      "C:\\Users\\Mostafa Rezapour\\Anaconda3\\envs\\tensorflow\\lib\\site-packages\\ipykernel_launcher.py:28: RuntimeWarning: divide by zero encountered in true_divide\n",
      "C:\\Users\\Mostafa Rezapour\\Anaconda3\\envs\\tensorflow\\lib\\site-packages\\ipykernel_launcher.py:28: RuntimeWarning: invalid value encountered in true_divide\n",
      "C:\\Users\\Mostafa Rezapour\\Anaconda3\\envs\\tensorflow\\lib\\site-packages\\ipykernel_launcher.py:34: UserWarning: Z contains NaN values. This may result in rendering artifacts.\n"
     ]
    }
   ],
   "source": [
    "\n",
    "import numpy as np\n",
    "import matplotlib.pyplot as plt\n",
    "from mpl_toolkits.mplot3d import Axes3D\n",
    "%matplotlib qt\n",
    "\n",
    "#Example 1: The plane intersecting in a line\n",
    "p1  = np.array([4,0,0])\n",
    "N1 = np.array([1,2,1])\n",
    "\n",
    "p2  = np.array([2,1,0])\n",
    "N2 = np.array([0,1,-1])\n",
    "\n",
    "p3  = np.array([0,0,1])\n",
    "N3 = np.array([1,3,0])\n",
    "\n",
    "\n",
    "dot1 = -np.sum(p1*N1)\n",
    "dot2 = -np.sum(p2*N2)\n",
    "dot3 = -np.sum(p3*N3)\n",
    "\n",
    "# create x,y\n",
    "xx, yy = np.meshgrid(range(-300,300), range(-300,300))\n",
    "\n",
    "# calculate corresponding z\n",
    "z1 = (-N1[0]*xx - N1[1]*yy - dot1)*1./N1[2]\n",
    "z2 = (-N2[0]*xx - N2[1]*yy - dot2)*1./N2[2]\n",
    "z3 = (-N3[0]*xx - N3[1]*yy - dot3)*1./N3[2]\n",
    "\n",
    "# plot the surface\n",
    "plt3d = plt.figure().gca(projection='3d')\n",
    "plt3d.plot_surface(xx,yy,z1, color='blue')\n",
    "plt3d.plot_surface(xx,yy,z2, color='yellow')\n",
    "plt3d.plot_surface(xx,yy,z3, color='black')\n",
    "plt.show()"
   ]
  },
  {
   "cell_type": "code",
   "execution_count": 18,
   "metadata": {},
   "outputs": [],
   "source": [
    "#Example 1: The plane intersecting in a line\n",
    "p1  = np.array([0,0,0])\n",
    "N1 = np.array([1,-2,1])\n",
    "\n",
    "p2  = np.array([0,4,0])\n",
    "N2 = np.array([0,2,-8])\n",
    "\n",
    "p3  = np.array([2,0,0])\n",
    "N3 = np.array([5,0,-5])\n",
    "\n",
    "\n",
    "dot1 = -np.sum(p1*N1)\n",
    "dot2 = -np.sum(p2*N2)\n",
    "dot3 = -np.sum(p3*N3)\n",
    "\n",
    "# create x,y\n",
    "xx, yy = np.meshgrid(range(-300,300), range(-300,300))\n",
    "\n",
    "# calculate corresponding z\n",
    "z1 = (-N1[0]*xx - N1[1]*yy - dot1)*1./N1[2]\n",
    "z2 = (-N2[0]*xx - N2[1]*yy - dot2)*1./N2[2]\n",
    "z3 = (-N3[0]*xx - N3[1]*yy - dot3)*1./N3[2]\n",
    "\n",
    "# plot the surface\n",
    "plt3d = plt.figure().gca(projection='3d')\n",
    "plt3d.plot_surface(xx,yy,z1, color='blue')\n",
    "plt3d.plot_surface(xx,yy,z2, color='yellow')\n",
    "plt3d.plot_surface(xx,yy,z3, color='black')\n",
    "plt.show()"
   ]
  },
  {
   "cell_type": "code",
   "execution_count": null,
   "metadata": {},
   "outputs": [],
   "source": []
  },
  {
   "cell_type": "code",
   "execution_count": null,
   "metadata": {},
   "outputs": [],
   "source": []
  }
 ],
 "metadata": {
  "kernelspec": {
   "display_name": "Python 3.6 (tensorflow)",
   "language": "python",
   "name": "tensorflow"
  },
  "language_info": {
   "codemirror_mode": {
    "name": "ipython",
    "version": 3
   },
   "file_extension": ".py",
   "mimetype": "text/x-python",
   "name": "python",
   "nbconvert_exporter": "python",
   "pygments_lexer": "ipython3",
   "version": "3.6.9"
  }
 },
 "nbformat": 4,
 "nbformat_minor": 2
}
